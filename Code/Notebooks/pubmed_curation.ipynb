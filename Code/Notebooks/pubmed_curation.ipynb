{
 "cells": [
  {
   "cell_type": "code",
   "execution_count": 1,
   "id": "a5a91cd8",
   "metadata": {},
   "outputs": [],
   "source": [
    "%matplotlib inline"
   ]
  },
  {
   "cell_type": "code",
   "execution_count": 13,
   "id": "b4406066",
   "metadata": {},
   "outputs": [],
   "source": [
    "from Bio import Entrez, Medline\n",
    "# from bs4 import BeautifulSoup\n",
    "# import requests\n",
    "import pandas as pd\n",
    "# import time\n",
    "# import random\n",
    "# import re\n",
    "\n",
    "# from matplotlib import pyplot as plt"
   ]
  },
  {
   "cell_type": "markdown",
   "id": "4527a62d",
   "metadata": {},
   "source": [
    "# First, programattically access NCBI's `pubmed` to perform an *agnostic* affiliation-based search"
   ]
  },
  {
   "cell_type": "code",
   "execution_count": 2,
   "id": "4e382930",
   "metadata": {},
   "outputs": [],
   "source": [
    "Entrez.email = 'adam.hockenberry@tempus.com'"
   ]
  },
  {
   "cell_type": "code",
   "execution_count": 3,
   "id": "01414ae2",
   "metadata": {},
   "outputs": [],
   "source": [
    "search_term = 'tempus'\n",
    "\n",
    "###Competitors?\n",
    "# search_term = 'foundation medicine'\n",
    "# search_term = 'sensyne'\n",
    "# search_term = 'guardant'\n",
    "# search_term = 'flatiron'\n",
    "# search_term = 'caris'"
   ]
  },
  {
   "cell_type": "markdown",
   "id": "4b8e61fd",
   "metadata": {},
   "source": [
    "# Get a (sloppy) starting set of PMID's that contain the search term in the affiliation field"
   ]
  },
  {
   "cell_type": "code",
   "execution_count": 4,
   "id": "577db198",
   "metadata": {},
   "outputs": [],
   "source": [
    "##Just looking at hits in different ncbi databases and getting the pubmed count\n",
    "max_rec = 0\n",
    "handle = Entrez.egquery(term='{}[ad]'.format(search_term))\n",
    "record = Entrez.read(handle)\n",
    "for row in record['eGQueryResult']:\n",
    "    if row['DbName'] == 'pubmed':\n",
    "        max_rec = int(row['Count'])"
   ]
  },
  {
   "cell_type": "code",
   "execution_count": 5,
   "id": "01c45ee2",
   "metadata": {},
   "outputs": [],
   "source": [
    "###Gather the PMIDs\n",
    "handle = Entrez.esearch(db='pubmed', term='{}[ad]'.format(search_term), retmax=max_rec)\n",
    "record = Entrez.read(handle)\n",
    "handle.close()\n",
    "id_list = record['IdList']\n",
    "assert len(id_list) == max_rec \n",
    "\n",
    "###Then do a fetch to return the text data for each record\n",
    "handle = Entrez.efetch(db=\"pubmed\", id=id_list, rettype=\"medline\",\n",
    "                        retmode=\"text\")\n",
    "records = list(Medline.parse(handle))\n",
    "assert len(records) == max_rec"
   ]
  },
  {
   "cell_type": "markdown",
   "id": "67513411",
   "metadata": {},
   "source": [
    "# Fix/check the affiliation errors"
   ]
  },
  {
   "cell_type": "code",
   "execution_count": 6,
   "id": "2310f999",
   "metadata": {},
   "outputs": [
    {
     "name": "stdout",
     "output_type": "stream",
     "text": [
      "Found 0 existing affiliation strings to remove from consideration:\n",
      "\n"
     ]
    }
   ],
   "source": [
    "###Read in a file that contains terms to remove / not count\n",
    "try:\n",
    "    with open('../../Data/{}_removal.txt'.format(''.join(search_term)), 'r') as infile:\n",
    "        pre_removed = infile.read().splitlines()\n",
    "        print('Found {} existing affiliation strings to remove from consideration:'.format(len(pre_removed)))\n",
    "except FileNotFoundError:\n",
    "    print('Did not find any previous file so starting afresh')\n",
    "    pre_removed = []\n",
    "print()\n",
    "for line in pre_removed:\n",
    "    print(line)"
   ]
  },
  {
   "cell_type": "code",
   "execution_count": 7,
   "id": "7699039e",
   "metadata": {},
   "outputs": [
    {
     "name": "stdout",
     "output_type": "stream",
     "text": [
      "Affiliations that remain and will be considered valid:\n",
      "\n",
      "Tempus, Chicago, IL, USA.\n",
      "Tempus Labs, Inc., Chicago, IL, 60654, USA. kevin@tempus.com.\n",
      "Tempus Labs, Chicago, IL. Electronic address: publications@Tempus.com.\n",
      "Tempus Labs Inc, Chicago, IL (A.N., T.C., K.W.J., N.Z., A.H.).\n",
      "Tempus Labs, Chicago, IL, USA. Nike.Beaubier@tempus.com.\n",
      "Tempus Software, Inc., Jacksonville, FL, USA.\n",
      "Tempus Labs, Chicago, USA. kevin@tempus.com.\n",
      "Department of Surgery, The University of Chicago Medicine, Chicago, Illinois. kpwhite@uchicago.edu kevin@tempus.com.\n",
      "Tempus, Inc., Chicago, IL, USA.\n",
      "Tempus Labs, Chicago, IL, 60654, USA. kpwhite@uchicago.edu.\n",
      "Tempus Labs, Chicago, IL, USA. bob@tempus.com.\n",
      "Tempus Labs Inc, Chicago, IL.\n",
      "Faculty of Metallurgy and Materials Science, University of Mining and Metallurgy, 30 Mickiewicza Ave., 30-059 Krakow, Poland. skac@tempus.metal.agh.edu.pl\n",
      "Tempus Labs, Inc., Chicago, IL, USA. kevin@tempus.com.\n",
      "Tempus Labs, Chicago, IL 60654, USA; Department of Pathology, Biological Sciences Division, University of Chicago, Chicago, IL 60637, USA. Electronic address: aakhan@tempus.com.\n",
      "Tempus Labs, Inc., Chicago, IL, USA. kpwhite@uchicago.edu.\n",
      "Current Affiliation: Tempus Labs, Chicago, IL, USA.\n",
      "Tempus Labs Inc., Chicago, IL, USA.\n",
      "Tempus Labs, Chicago, IL 60654, USA.\n",
      "Medical Informatics Tempus and Kanter Health Foundation Chicago Illinois.\n",
      "Bioengineering and Therapeutic Sciences, University of California, San Francisco, California (A.K.S., Y.X., C.A.H.); and Tempus Dictum, Inc., Milwaukie, Oregon (G.E.P.R.).\n",
      "Tempus Omnia Revelat (TOR) Research Group, Department of Sociology, Vrije Universiteit Brussel, Brussels, Belgium.\n",
      "Tempus Dictum, Inc., Milwaukie, OR, USA.\n",
      "Tempus Labs, Chicago, IL 60654, USA. Electronic address: katie.igartua@tempus.com.\n",
      "Faculty of Metallurgy and Materials Science, AGH University of Science and Technology, 30 Mickiewicza Avenue, 30-059 Cracow, Poland. kopia@tempus.metal.agh.edu.pl\n",
      "Tempus Labs, Chicago, IL 60654, USA; Toyota Technological Institute at Chicago, Chicago, IL 60637, USA. Electronic address: aakhan@ttic.edu.\n",
      "Tempus Labs Inc., Chicago, IL, USA. kpwhite@uchicago.edu.\n",
      "About the Authors Dejan Bokonjic, PhD, and Maja Racic, PhD, are associate professors, Faculty of Medicine, University of East Sarajevo, Foca, Bosnia and Herzegovina. Srdjan Masic, MsPH, is with the Faculty of Medicine, University of East Sarajevo. Mirza Oruc, MsD, RN, is an instructor, Faculty of Medicine, University of Zenica, Zenica, Bosnia and Herzegovina. Lubica Rybarova, RN, PhS, is a professor, Faculty of Health Care, University of Presov, Presov, Slovakia. Kristina Vidovic, MsD, RN, is an instructor, University of Mostar, Mostar, Bosnia and Herzegovina. Belinda Drieghe, BScN, RN, is an instructor, University College Odisee, Brussels, Belgium. Johan van Wieren, PhD, RN, is an instructor, Hanze University of Applied Sciences, Groningen, the Netherlands. Erard Curcija, BScN, RN, is an instructor, University of Shkodra, Lugic Gurakuqi, Shkodra, Albania. Luis Seiti, BScN, RN, is an instructor, Eqrem Cabej University of Gjirokastra, Gjirokastra, Albania. This article was developed on the basis of the TEMPUS project Competency-Based Curriculum Reform in Nursing and Caring in Western Balkan Universities (544169-TEMPUS-1-2013-1-BE-TEMPUS-JPCR). The authors are grateful to Annette Schuster, BN, MACP, and Elizabeth Klaassen for their help in editing the article. For more information, contact Maja Racic at maja.racic@ues.rs.ba.\n",
      "Tempus Labs, 600 West Chicago Ave., Chicago, IL, 60654, USA. kpwhite@uchicago.edu.\n",
      "Tempus, Chicago, IL.\n",
      "Now with Tempus Labs, Chicago, Illinois.\n",
      "Google Health, Tempus Labs Inc., Chicago, IL, USA.\n",
      "Tempus Labs, Chicago, IL.\n",
      "Tempus Laboratories, Chicago, IL, USA.\n",
      "Tempus Labs, Chicago, Illinois.\n",
      "Tempus Labs, Inc. Chicago, IL 60654, United States of America.\n",
      "Tempus Labs Inc, Chicago, Illinois, USA.\n",
      "Tempus Labs, Inc., Chicago, IL, Illinois, USA.\n",
      "Tempus Labs, Boston, MA, USA.\n",
      "Tempus Labs, Inc., Chicago, IL.\n",
      "Tempus Labs, Inc, Chicago, IL USA.\n",
      "Present Address: AI and Data Science, Tempus Labs Inc, Chicago, United States.\n",
      "Present Address: AI and Data Science, Tempus Labs Inc, Chicago, IL USA.\n",
      "Tempus Labs, Chicago, Illinois, USA.\n",
      "Tempus, Inc., Chicago, Illinois.\n",
      "Tempus Dictum, Inc., Milwaukie, Oregon, United States of America.\n",
      "Present Address: Tempus Labs Inc, Chicago, IL USA.\n",
      "Tempus Labs Inc, New York, NY.\n",
      "Tempus Labs Biotechnology, Chicago, IL.\n",
      "Tempus Omnia Revelat, Vrije Universiteit Brussel (VUB), Brussels, Belgium.\n",
      "Tempus Labs, Chicago, IL, 60654, USA. kevin@tempus.com.\n",
      "Tempus Dictum, Inc., Milwaukie, Oregon.\n",
      "Tempus Health, Inc., 600 W Chicago St, Floor 7 Light Bank Office, Chicago, IL 60654, USA. Electronic address: will@tempus.com.\n",
      "Key Laboratory of Unconventional Oil & Gas Development (China University of Petroleum (East China)), Ministry of Education, Qingdao 266580, PR China; School of Petroleum Engineering, China University of Petroleum (East China), Qingdao 266580, PR China; Kazakh-British Technical University, Almaty 050000, Kazakhstan. Electronic address: tempus_aidarova@mail.ru.\n",
      "Tempus Labs, 600 West Chicago Ave., Chicago, Illinois 60654, USA.\n",
      "Tempus Labs, Chicago, Illinois, United States of America.\n",
      "TEMPUS Labs, Chicago, IL.\n",
      "Tempus Labs Inc., Chicago, IL, 60654, USA.\n",
      "Tempus Labs Inc., Chicago, IL, USA. cmermel@google.com.\n",
      "Tempus, Redwood City, California.\n",
      "Institute for Genomics and Systems Biology, University of Chicago, Chicago, IL, 60637, USA. kevin@tempus.com.\n",
      "University of Science and Technology, Faculty of Metallurgy and Materials Science, Al. Mickiewicza 30, 30-059 Cracow, Poland. tkoziel@tempus.metal.agh.edu.pl\n",
      "Tempus Labs Inc, Chicago, Illinois, United States of America.\n",
      "Tempus, Chicago, Illinois, USA.\n",
      "Tempus Labs, Chicago, IL; and.\n",
      "Tempus Dictum, Inc., Portland, Oregon, United States of America.\n",
      "Tempus Labs Inc., Chicago, IL 60654, USA.\n",
      "Tempus, Chicago, Illinois.\n",
      "Institute for Genomic & Systems Biology, The University of Chicago, Chicago, Illinois. kpwhite@uchicago.edu kevin@tempus.com.\n",
      "Tempus Labs, Inc., Chicago, Illinois 60654, USA.\n",
      "Tempus Health, Incorporated, Chicago, Illinois 60654, USA.\n",
      "Tempus Labs, Inc, Chicago, IL.\n",
      "Institute for Genomics and System Biology, University of Chicago, Chicago, IL, 60637, USA. kevin@tempus.com.\n",
      "Medical Affairs, Tempus, Phoenix, AZ.\n",
      "From the Departments of Neurosurgery (A.D., M.G., A.H.F., H.S.F., K.B.P., D.R., J.H.S., G.V., D.A., D.D.B.), Biostatistics (J.E.H., F.M.), Surgery (D.P.B., S.N.), and Pathology (W.T.H., R.E.M.) and the Preston Robert Tisch Brain Tumor Center (A.D., M.G., J.E.H., D.P.B., A.H.F., H.S.F., F.M., S.N., K.B.P., D.R., J.H.S., G.V., W.T.H., R.E.M., D.A., D.D.B.), Duke University Medical Center, and Istari Oncology (D.P.B.) - all in Durham, NC; Tempus Labs, Chicago (N.B.); and the School of Medicine, Deakin University, Geelong, VIC, Australia (A.M.M.).\n",
      "Tempus, Chicago, IL 60654, USA.\n",
      "Tempus Labs, Inc, New York, New York, USA.\n",
      "now with Tempus, Inc, Redwood Shores, California.\n",
      "Tempus Dictum, Inc., Milwaukie, OR, United States of America.\n",
      "Tempus Labs, Inc, Chicago, IL, USA.\n",
      "Current Address: Tempus Labs Inc., Redwood City, CA, 94065, USA.\n",
      "Tempus Labs, Chicago, IL, USA.\n",
      "Tempus Labs, Inc., Chicago, Illinois, 60654, Finland. kpwhite@uchicago.edu.\n",
      "Department of Human Genetics, University of Chicago, Chicago, IL, 60637, USA. kevin@tempus.com.\n",
      "The Institute for Genomics and Systems Biology, The University of Chicago, Chicago, Illinois, USA. kevin@tempus.com.\n",
      "Pediatric Oncology Development, Tempus Labs, Inc, 600 West Chicago Ave, #510, Chicago, IL, 60654, USA. kkaneva87@gmail.com.\n",
      "Tempus Labs, Inc., Chicago, Illinois, USA.\n",
      "Weill Cornell Medicine, New York, NY, USA; Department of Physiology and Biophysics, Weill Cornell Medicine, New York, 10065, USA; Tempus Labs Inc. Chicago, IL, USA. Electronic address: duane.hassane@gmail.com.\n",
      "Tempus Dictum, Inc., Portland, OR 97202, USA.\n",
      "Tempus Labs, Inc., Chicago, IL, 60654, USA.\n",
      "Tempus Labs, Chicago, IL, 60654, USA.\n",
      "Tempus Labs, Chicago, IL 60654, USA; Department of Pathology and Laboratory Medicine, New York Presbyterian Hospital-Weill Cornell Medicine, New York, NY 10021, USA.\n",
      "Tempus Labs, 600 W Chicago Ave. Ste 510, Chicago, IL 60654, USA.\n",
      "Present Address: Tempus Labs Inc., Boston, MA, USA.\n",
      "Tempus Labs, Inc. Chicago, IL, Chicago, USA.\n",
      "Univerzitet u Novom Sadu, Centar za univerzitetske studije YUEE Tempus centar.\n",
      "Tempus Labs, Inc., Chicago, IL, USA.\n",
      "Bioengineering and Therapeutic Sciences, University of California, San Francisco, California (A.K.S., Y.X., C.A.H.); and Tempus Dictum, Inc., Milwaukie, Oregon (G.E.P.R.) a.hunt@ucsf.edu.\n",
      "Tempus Labs Inc., Chicago, IL.\n",
      "Tempus Labs, Inc., Chicago, IL 60654, USA.\n",
      "Tempus Labs, Chicago, IL 60654, USA. Electronic address: ameen@tempus.com.\n"
     ]
    }
   ],
   "source": [
    "possible_names = []\n",
    "for record in records:\n",
    "    affil_of_interest = 0\n",
    "    for affil in record['AD']:\n",
    "        if search_term in affil.lower():\n",
    "            tempy = affil.lower()\n",
    "            for error in pre_removed:\n",
    "                tempy = tempy.replace(error, '***')\n",
    "            if search_term in tempy:            \n",
    "                possible_names.append(affil)\n",
    "print('Affiliations that remain and will be considered valid:')\n",
    "print()\n",
    "for i in set(possible_names):\n",
    "    print(i)"
   ]
  },
  {
   "cell_type": "markdown",
   "id": "95761f20",
   "metadata": {},
   "source": [
    "**Strange entries (should these be removed?):**\n",
    "\n",
    "Medical Informatics Tempus and Kanter Health Foundation Chicago Illinois.\n",
    "\n",
    "Tempus Health, Incorporated, Chicago, Illinois 60654, USA.\n",
    "\n",
    "Google Health, Tempus Labs Inc., Chicago, IL, USA.\n",
    "\n",
    "Tempus, Redwood City, California.\n",
    "\n",
    "Tempus Labs, Boston, MA, USA."
   ]
  },
  {
   "cell_type": "code",
   "execution_count": 8,
   "id": "4415e5bb",
   "metadata": {},
   "outputs": [],
   "source": [
    "to_remove = []\n",
    "new_to_remove = pre_removed + to_remove\n",
    "with open('../../Data/{}_removal.txt'.format(''.join(search_term)), 'w') as outfile:\n",
    "    for i in new_to_remove:\n",
    "        outfile.write(i+'\\n')"
   ]
  },
  {
   "cell_type": "markdown",
   "id": "dd16d248",
   "metadata": {},
   "source": [
    "# Pare down the records based on whether they contain a valid affiliation"
   ]
  },
  {
   "cell_type": "code",
   "execution_count": 9,
   "id": "bf3cfac0",
   "metadata": {},
   "outputs": [
    {
     "name": "stdout",
     "output_type": "stream",
     "text": [
      "127 127\n"
     ]
    }
   ],
   "source": [
    "valid_ids = []\n",
    "for record in records:\n",
    "    affil_of_interest = 0\n",
    "    for affil in record['AD']:\n",
    "        if search_term in affil.lower():\n",
    "            tempy = affil.lower()\n",
    "            for error in new_to_remove:\n",
    "                tempy = tempy.replace(error, '***')\n",
    "            if search_term in tempy:\n",
    "                affil_of_interest +=1\n",
    "    if affil_of_interest > 0:\n",
    "        valid_ids.append(record['PMID'])\n",
    "print(len(records), len(valid_ids))"
   ]
  },
  {
   "cell_type": "markdown",
   "id": "a8a46269",
   "metadata": {},
   "source": [
    "# Move forward with this set of validated publications\n",
    "\n",
    "**First fetch `xml` information on each**"
   ]
  },
  {
   "cell_type": "code",
   "execution_count": 10,
   "id": "a8285ddd",
   "metadata": {},
   "outputs": [],
   "source": [
    "handle = Entrez.efetch(db=\"pubmed\", id=valid_ids, rettype=\"medline\",\n",
    "                        retmode=\"xml\")\n",
    "records = Entrez.read(handle)"
   ]
  },
  {
   "cell_type": "markdown",
   "id": "e9bba6f8",
   "metadata": {},
   "source": [
    "**Extract basic / relevant information from pubmed**"
   ]
  },
  {
   "cell_type": "code",
   "execution_count": 11,
   "id": "d54cfeda",
   "metadata": {},
   "outputs": [],
   "source": [
    "pmids = []\n",
    "titles = []\n",
    "dois = []\n",
    "journals = []\n",
    "years_journal = []\n",
    "volumes = []\n",
    "issues = []\n",
    "n_authors = []\n",
    "n_affil_authors = []\n",
    "affil_author_names = []\n",
    "for record in records['PubmedArticle']:\n",
    "    pmids.append(int(record['MedlineCitation']['PMID']))\n",
    "    titles.append(record['MedlineCitation']['Article'].get('ArticleTitle'))\n",
    "    journals.append(record['MedlineCitation']['Article']['Journal'].get('Title', ''))\n",
    "    years_journal.append(record['MedlineCitation']['Article']['Journal']['JournalIssue']['PubDate'].get('Year', ''))\n",
    "    volumes.append(record['MedlineCitation']['Article']['Journal']['JournalIssue'].get('Volume', ''))\n",
    "    issues.append(record['MedlineCitation']['Article']['Journal']['JournalIssue'].get('Issue', ''))\n",
    "    ###DOI is a bit more complicated\n",
    "    doi = ''\n",
    "    for item in record['MedlineCitation']['Article']['ELocationID']:\n",
    "        if item.attributes['EIdType']=='doi':\n",
    "            doi = str(item)\n",
    "    dois.append(doi)\n",
    "    ###Authorship gets really complicated\n",
    "    total_authors = 0\n",
    "    affil_authors = 0\n",
    "    affil_author_list = []\n",
    "    for person in record['MedlineCitation']['Article']['AuthorList']:\n",
    "        affil_author = False\n",
    "        ln = person.get('LastName', '')\n",
    "        if ln == '':\n",
    "            continue\n",
    "        total_authors += 1\n",
    "        name = (person['LastName']+' '+person['ForeName']).replace(' ', '_')\n",
    "        affiliations = person['AffiliationInfo']\n",
    "        for affiliation in affiliations:\n",
    "            if affiliation['Affiliation'] in possible_names:\n",
    "                affil_author=True\n",
    "        if affil_author:\n",
    "            affil_authors += 1\n",
    "            affil_author_list.append(name)\n",
    "    ###Finally adding\n",
    "    n_authors.append(total_authors)\n",
    "    n_affil_authors.append(affil_authors)\n",
    "    affil_author_names.append('; '.join(affil_author_list))"
   ]
  },
  {
   "cell_type": "code",
   "execution_count": 14,
   "id": "1f690908",
   "metadata": {},
   "outputs": [
    {
     "name": "stdout",
     "output_type": "stream",
     "text": [
      "(127, 10)\n"
     ]
    },
    {
     "data": {
      "text/html": [
       "<div>\n",
       "<style scoped>\n",
       "    .dataframe tbody tr th:only-of-type {\n",
       "        vertical-align: middle;\n",
       "    }\n",
       "\n",
       "    .dataframe tbody tr th {\n",
       "        vertical-align: top;\n",
       "    }\n",
       "\n",
       "    .dataframe thead th {\n",
       "        text-align: right;\n",
       "    }\n",
       "</style>\n",
       "<table border=\"1\" class=\"dataframe\">\n",
       "  <thead>\n",
       "    <tr style=\"text-align: right;\">\n",
       "      <th></th>\n",
       "      <th>PMID</th>\n",
       "      <th>Title</th>\n",
       "      <th>DOI</th>\n",
       "      <th>Journal</th>\n",
       "      <th>Year</th>\n",
       "      <th>Volume</th>\n",
       "      <th>Issue</th>\n",
       "      <th>Total_author_count</th>\n",
       "      <th>Affiliated_author_count</th>\n",
       "      <th>Affiliated_author_names</th>\n",
       "    </tr>\n",
       "  </thead>\n",
       "  <tbody>\n",
       "    <tr>\n",
       "      <th>0</th>\n",
       "      <td>35339649</td>\n",
       "      <td>Phase 2 single arm study of nivolumab and ipil...</td>\n",
       "      <td>10.1016/j.annonc.2022.03.012</td>\n",
       "      <td>Annals of oncology : official journal of the E...</td>\n",
       "      <td>2022</td>\n",
       "      <td></td>\n",
       "      <td></td>\n",
       "      <td>19</td>\n",
       "      <td>1</td>\n",
       "      <td>Schwarzbach_A_E</td>\n",
       "    </tr>\n",
       "    <tr>\n",
       "      <th>1</th>\n",
       "      <td>35319967</td>\n",
       "      <td>Landscape of &lt;i&gt;KRAS&lt;/i&gt;&lt;sup&gt;G12C&lt;/sup&gt;, Assoc...</td>\n",
       "      <td>10.1200/PO.21.00245</td>\n",
       "      <td>JCO precision oncology</td>\n",
       "      <td>2022</td>\n",
       "      <td>6</td>\n",
       "      <td></td>\n",
       "      <td>15</td>\n",
       "      <td>3</td>\n",
       "      <td>El-Refai_Sherif_M; O'Neil_Bert; Barrett_Alexan...</td>\n",
       "    </tr>\n",
       "    <tr>\n",
       "      <th>2</th>\n",
       "      <td>35274707</td>\n",
       "      <td>Homologous Recombination Deficiency: Concepts,...</td>\n",
       "      <td>10.1093/oncolo/oyab053</td>\n",
       "      <td>The oncologist</td>\n",
       "      <td>2022</td>\n",
       "      <td>27</td>\n",
       "      <td>3</td>\n",
       "      <td>25</td>\n",
       "      <td>2</td>\n",
       "      <td>Beaubier_Nike; Parsons_Jerod</td>\n",
       "    </tr>\n",
       "    <tr>\n",
       "      <th>3</th>\n",
       "      <td>35263765</td>\n",
       "      <td>Researching Compassionate Communities from an ...</td>\n",
       "      <td>10.1093/geront/gnac034</td>\n",
       "      <td>The Gerontologist</td>\n",
       "      <td>2022</td>\n",
       "      <td></td>\n",
       "      <td></td>\n",
       "      <td>15</td>\n",
       "      <td>2</td>\n",
       "      <td>Van_Droogenbroeck_Filip; Spruyt_Bram</td>\n",
       "    </tr>\n",
       "    <tr>\n",
       "      <th>4</th>\n",
       "      <td>35233056</td>\n",
       "      <td>Crizotinib in patients with tumors harboring A...</td>\n",
       "      <td>10.1038/s41698-022-00256-w</td>\n",
       "      <td>NPJ precision oncology</td>\n",
       "      <td>2022</td>\n",
       "      <td>6</td>\n",
       "      <td>1</td>\n",
       "      <td>29</td>\n",
       "      <td>1</td>\n",
       "      <td>Malik_N</td>\n",
       "    </tr>\n",
       "  </tbody>\n",
       "</table>\n",
       "</div>"
      ],
      "text/plain": [
       "       PMID                                              Title  \\\n",
       "0  35339649  Phase 2 single arm study of nivolumab and ipil...   \n",
       "1  35319967  Landscape of <i>KRAS</i><sup>G12C</sup>, Assoc...   \n",
       "2  35274707  Homologous Recombination Deficiency: Concepts,...   \n",
       "3  35263765  Researching Compassionate Communities from an ...   \n",
       "4  35233056  Crizotinib in patients with tumors harboring A...   \n",
       "\n",
       "                            DOI  \\\n",
       "0  10.1016/j.annonc.2022.03.012   \n",
       "1           10.1200/PO.21.00245   \n",
       "2        10.1093/oncolo/oyab053   \n",
       "3        10.1093/geront/gnac034   \n",
       "4    10.1038/s41698-022-00256-w   \n",
       "\n",
       "                                             Journal  Year Volume Issue  \\\n",
       "0  Annals of oncology : official journal of the E...  2022                \n",
       "1                             JCO precision oncology  2022      6         \n",
       "2                                     The oncologist  2022     27     3   \n",
       "3                                  The Gerontologist  2022                \n",
       "4                             NPJ precision oncology  2022      6     1   \n",
       "\n",
       "   Total_author_count  Affiliated_author_count  \\\n",
       "0                  19                        1   \n",
       "1                  15                        3   \n",
       "2                  25                        2   \n",
       "3                  15                        2   \n",
       "4                  29                        1   \n",
       "\n",
       "                             Affiliated_author_names  \n",
       "0                                    Schwarzbach_A_E  \n",
       "1  El-Refai_Sherif_M; O'Neil_Bert; Barrett_Alexan...  \n",
       "2                       Beaubier_Nike; Parsons_Jerod  \n",
       "3               Van_Droogenbroeck_Filip; Spruyt_Bram  \n",
       "4                                            Malik_N  "
      ]
     },
     "execution_count": 14,
     "metadata": {},
     "output_type": "execute_result"
    }
   ],
   "source": [
    "pubs_df = pd.DataFrame(zip(pmids, titles, dois, journals, years_journal, volumes, issues,\n",
    "                           n_authors, n_affil_authors, affil_author_names),\\\n",
    "                       columns = ['PMID', 'Title', 'DOI', 'Journal', 'Year', 'Volume', 'Issue',\\\n",
    "                                  'Total_author_count', 'Affiliated_author_count', 'Affiliated_author_names'])\n",
    "print(pubs_df.shape)\n",
    "pubs_df.head()"
   ]
  },
  {
   "cell_type": "markdown",
   "id": "9f8010ae",
   "metadata": {},
   "source": [
    "# Other possible things to look out for / drop"
   ]
  },
  {
   "cell_type": "markdown",
   "id": "685ad3fb",
   "metadata": {},
   "source": [
    "**Can stack on keywords in the \"title\" field to ignore using the pattern below**"
   ]
  },
  {
   "cell_type": "code",
   "execution_count": 14,
   "id": "0e139e5f",
   "metadata": {},
   "outputs": [
    {
     "name": "stdout",
     "output_type": "stream",
     "text": [
      "(99, 10)\n",
      "(94, 10)\n",
      "(93, 10)\n"
     ]
    }
   ],
   "source": [
    "print(pubs_df.shape)\n",
    "for bad_title in ['author correction', 'correction to:']:\n",
    "    pubs_df = pubs_df[pubs_df['Title'].str.contains(bad_title, case=False) == False]\n",
    "    print(pubs_df.shape)"
   ]
  },
  {
   "cell_type": "markdown",
   "id": "19a8756f",
   "metadata": {},
   "source": [
    "**Can similarly remove particular journals**"
   ]
  },
  {
   "cell_type": "code",
   "execution_count": 15,
   "id": "6382b863",
   "metadata": {},
   "outputs": [
    {
     "name": "stdout",
     "output_type": "stream",
     "text": [
      "(93, 10)\n",
      "(93, 10)\n",
      "(93, 10)\n",
      "(91, 10)\n"
     ]
    }
   ],
   "source": [
    "print(pubs_df.shape)\n",
    "for bad_journal in ['arxiv', 'biorxiv', 'medrxiv']:\n",
    "    pubs_df = pubs_df[pubs_df['Journal'].str.contains(bad_journal, case=False) == False]\n",
    "    print(pubs_df.shape)"
   ]
  },
  {
   "cell_type": "markdown",
   "id": "e193c3de",
   "metadata": {},
   "source": [
    "**Drop mistakes / errors via a process of MANUAL curation**"
   ]
  },
  {
   "cell_type": "code",
   "execution_count": 16,
   "id": "271516a5",
   "metadata": {},
   "outputs": [],
   "source": [
    "pmids_to_drop = []"
   ]
  },
  {
   "cell_type": "markdown",
   "id": "180e9122",
   "metadata": {},
   "source": [
    "**^^^STILL NEED TO WRITE THIS, CHECK IN WITH AB**"
   ]
  },
  {
   "cell_type": "markdown",
   "id": "31ce3cc8",
   "metadata": {},
   "source": [
    "# Finally, write results to a file"
   ]
  },
  {
   "cell_type": "code",
   "execution_count": 17,
   "id": "186ddd87",
   "metadata": {},
   "outputs": [],
   "source": [
    "pubs_df = pubs_df.sort_values('Year', ascending=False)"
   ]
  },
  {
   "cell_type": "code",
   "execution_count": 18,
   "id": "e9417a5e",
   "metadata": {},
   "outputs": [],
   "source": [
    "pubs_df = pubs_df.sort_values('Year', ascending=False)\n",
    "pubs_df.to_csv('../Results/{}.tsv'.format('_'.join(search_term.split(' '))), index=False, sep='\\t')"
   ]
  },
  {
   "cell_type": "code",
   "execution_count": null,
   "id": "fbdac776",
   "metadata": {},
   "outputs": [],
   "source": []
  },
  {
   "cell_type": "markdown",
   "id": "36315222",
   "metadata": {},
   "source": [
    "# Plots!"
   ]
  },
  {
   "cell_type": "code",
   "execution_count": 22,
   "id": "f04c0627",
   "metadata": {},
   "outputs": [
    {
     "data": {
      "text/plain": [
       "(91, 10)"
      ]
     },
     "execution_count": 22,
     "metadata": {},
     "output_type": "execute_result"
    }
   ],
   "source": [
    "pubs_df.shape"
   ]
  },
  {
   "cell_type": "code",
   "execution_count": 24,
   "id": "2865259c",
   "metadata": {},
   "outputs": [
    {
     "data": {
      "text/plain": [
       "[<matplotlib.lines.Line2D at 0x7fba26930ee0>]"
      ]
     },
     "execution_count": 24,
     "metadata": {},
     "output_type": "execute_result"
    },
    {
     "data": {
      "image/png": "[encoded data removed]",
      "text/plain": [
       "<Figure size 432x288 with 1 Axes>"
      ]
     },
     "metadata": {
      "needs_background": "light"
     },
     "output_type": "display_data"
    }
   ],
   "source": [
    "years = [2016, 2017, 2018, 2019, 2020, 2021, 2022]\n",
    "y_vals = []\n",
    "temp_dict = dict(pubs_df[pubs_df['Affiliated_author_count']>=1]['Year'].value_counts())\n",
    "for year in years:\n",
    "    y_vals.append(temp_dict.get(str(year), 0))\n",
    "    \n",
    "fig, ax = plt.subplots()\n",
    "ax.plot(years, y_vals, marker='s')"
   ]
  },
  {
   "cell_type": "code",
   "execution_count": null,
   "id": "0a387213",
   "metadata": {},
   "outputs": [],
   "source": []
  },
  {
   "cell_type": "code",
   "execution_count": null,
   "id": "f6b3aaae",
   "metadata": {},
   "outputs": [],
   "source": []
  },
  {
   "cell_type": "code",
   "execution_count": null,
   "id": "59656791",
   "metadata": {},
   "outputs": [],
   "source": []
  },
  {
   "cell_type": "code",
   "execution_count": null,
   "id": "fe605230",
   "metadata": {},
   "outputs": [],
   "source": []
  },
  {
   "cell_type": "code",
   "execution_count": null,
   "id": "f02faa23",
   "metadata": {},
   "outputs": [],
   "source": []
  },
  {
   "cell_type": "code",
   "execution_count": null,
   "id": "b8b48606",
   "metadata": {},
   "outputs": [],
   "source": []
  },
  {
   "cell_type": "code",
   "execution_count": null,
   "id": "113b3398",
   "metadata": {},
   "outputs": [],
   "source": []
  },
  {
   "cell_type": "code",
   "execution_count": null,
   "id": "3ff6f9c0",
   "metadata": {},
   "outputs": [],
   "source": []
  },
  {
   "cell_type": "code",
   "execution_count": null,
   "id": "ec9cc941",
   "metadata": {},
   "outputs": [],
   "source": []
  },
  {
   "cell_type": "markdown",
   "id": "04f55d28",
   "metadata": {},
   "source": [
    "# Scratch"
   ]
  },
  {
   "cell_type": "code",
   "execution_count": null,
   "id": "e944efb7",
   "metadata": {},
   "outputs": [],
   "source": []
  },
  {
   "cell_type": "code",
   "execution_count": null,
   "id": "9f33ae74",
   "metadata": {},
   "outputs": [],
   "source": []
  },
  {
   "cell_type": "markdown",
   "id": "20afee77",
   "metadata": {},
   "source": [
    "# Add in citation data via google scholar\n",
    "\n",
    "Note that there are some different ways to do this using Pubmed for instance. Unfortunatley, pubmed appears to only track PMC articles which are a small subset of all publications. See:\n",
    "\n",
    "```\n",
    "pmid = xyzpqr\n",
    "results = Entrez.read(Entrez.elink(dbfrom=\"pubmed\", db=\"pubmed\", LinkName=\"pubmed_pmc_refs\", id=pmid))\n",
    "pmc_ids = [link[\"Id\"] for link in results[0][\"LinkSetDb\"][0][\"Link\"]]\n",
    "pmc_ids\n",
    "```"
   ]
  },
  {
   "cell_type": "code",
   "execution_count": null,
   "id": "13b82010",
   "metadata": {},
   "outputs": [],
   "source": [
    "# citation_count = []\n",
    "# with requests.Session() as s:\n",
    "#     for index in pubs_df.index:\n",
    "#         if pubs_df.at[index, 'DOI'] != '':\n",
    "#             query = pubs_df.at[index, 'DOI']\n",
    "#         else:\n",
    "#             query = pubs_df.at[index, 'Title']\n",
    "#         print(query)\n",
    "#         url = 'https://scholar.google.com/scholar?q=' + query + '&ie=UTF-8&oe=UTF-8&hl=en&btnG=Search'\n",
    "#         r = s.get(url)\n",
    "#         soup = BeautifulSoup(r.content, 'lxml')\n",
    "#         title = soup.select_one('h3.gs_rt a').text if soup.select_one('h3.gs_rt a') is not None else 'No title'\n",
    "#         citations = soup.select_one('a:-soup-contains(\"Cited by\")').text if soup.select_one('a:-soup-contains(\"Cited by\")') is not None else 'No citation count'\n",
    "#         print(title)\n",
    "#         print(citations) \n",
    "#         print()\n",
    "#         citation_count.append(citations)\n",
    "#         break\n",
    "#         time.sleep(random.randint(1, 30))"
   ]
  },
  {
   "cell_type": "code",
   "execution_count": null,
   "id": "05c3ecc8",
   "metadata": {},
   "outputs": [],
   "source": []
  },
  {
   "cell_type": "code",
   "execution_count": null,
   "id": "801d59dd",
   "metadata": {},
   "outputs": [],
   "source": []
  },
  {
   "cell_type": "markdown",
   "id": "f88823ad",
   "metadata": {},
   "source": [
    "# Searching for acknowledgements and/or full text name calls via PMC search"
   ]
  },
  {
   "cell_type": "code",
   "execution_count": null,
   "id": "2bf02124",
   "metadata": {},
   "outputs": [],
   "source": [
    "search_term = 'tempus'\n",
    "# search_term = 'tempus labs'\n",
    "\n",
    "###First do a search to gather the PMIDs\n",
    "handle = Entrez.esearch(db='pmc', term='{}[acknowledgements]'.format(search_term), retmax=max_rec)\n",
    "# handle = Entrez.esearch(db='pmc', term='{}[Body - All Words]'.format(search_term), retmax=max_rec)\n",
    "record = Entrez.read(handle)\n",
    "handle.close()\n",
    "id_list = record['IdList']\n",
    "print(len(id_list))"
   ]
  },
  {
   "cell_type": "markdown",
   "id": "91e6e552",
   "metadata": {},
   "source": [
    "**Remove things we should already know about from affiliation-based search**"
   ]
  },
  {
   "cell_type": "code",
   "execution_count": null,
   "id": "4b4d2031",
   "metadata": {},
   "outputs": [],
   "source": [
    "valid_id_list = []\n",
    "###Then do a fetch to return the text data for each record\n",
    "handle = Entrez.efetch(db=\"pmc\", id=id_list, rettype=\"medline\",\n",
    "                        retmode=\"text\")\n",
    "records = list(Medline.parse(handle))\n",
    "for record in records:\n",
    "    if int(record['PMID']) not in list(merge_df['PMID']):\n",
    "        valid_id_list.append(record['PMC'][3:])\n",
    "print(len(valid_id_list))\n",
    "\n",
    "handle = Entrez.efetch(db=\"pmc\", id=valid_id_list, rettype=\"medline\",\n",
    "                        retmode=\"text\")\n",
    "records = list(Medline.parse(handle))\n",
    "print(len(records))"
   ]
  },
  {
   "cell_type": "markdown",
   "id": "77b78942",
   "metadata": {},
   "source": [
    "**Those are my candidates, time to go find some matches**"
   ]
  },
  {
   "cell_type": "code",
   "execution_count": null,
   "id": "7376e4f5",
   "metadata": {},
   "outputs": [],
   "source": [
    "for record in records:\n",
    "    print(record['TI'], record['PMID'])\n",
    "# handle = Entrez.efetch(db='pmc', id=id_list, rettype='xml')\n",
    "# records = list(Entrez.parse(handle))"
   ]
  },
  {
   "cell_type": "code",
   "execution_count": null,
   "id": "689cc72d",
   "metadata": {},
   "outputs": [],
   "source": [
    "handle = Entrez.efetch(db='pmc', id=id_list[0], retmode='xml')\n",
    "records = list(Entrez.read(handle))"
   ]
  },
  {
   "cell_type": "code",
   "execution_count": null,
   "id": "fc53934d",
   "metadata": {},
   "outputs": [],
   "source": [
    "id_list"
   ]
  },
  {
   "cell_type": "code",
   "execution_count": null,
   "id": "b0a41113",
   "metadata": {},
   "outputs": [],
   "source": [
    "# for record in records:\n",
    "#     print(record['TI'])"
   ]
  },
  {
   "cell_type": "code",
   "execution_count": null,
   "id": "1e6e38c7",
   "metadata": {},
   "outputs": [],
   "source": []
  }
 ],
 "metadata": {
  "kernelspec": {
   "display_name": "Python 3",
   "language": "python",
   "name": "python3"
  },
  "language_info": {
   "codemirror_mode": {
    "name": "ipython",
    "version": 3
   },
   "file_extension": ".py",
   "mimetype": "text/x-python",
   "name": "python",
   "nbconvert_exporter": "python",
   "pygments_lexer": "ipython3",
   "version": "3.8.8"
  }
 },
 "nbformat": 4,
 "nbformat_minor": 5
}
